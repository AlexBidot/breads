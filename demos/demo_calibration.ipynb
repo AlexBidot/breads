{
 "cells": [
  {
   "cell_type": "markdown",
   "source": [
    "# Using `breads` for wavelength and resolution calibration"
   ],
   "metadata": {}
  },
  {
   "cell_type": "markdown",
   "source": [
    "## Installation"
   ],
   "metadata": {}
  },
  {
   "cell_type": "markdown",
   "source": [
    "First, ensure that you have a current version of `breads` on your system. The easiest way to do this after release will be:"
   ],
   "metadata": {}
  },
  {
   "cell_type": "code",
   "execution_count": null,
   "source": [
    "# after release\n",
    "\n",
    "# !pip install breads\n",
    "\n",
    "# restart your Jupyter kernel"
   ],
   "outputs": [],
   "metadata": {}
  },
  {
   "cell_type": "markdown",
   "source": [
    "We are currently in pre-release, so you can run one of the following two options. This assumes that you have cloned our [GitHub repository](https://github.com/jruffio/bread) and are running this iPython notebook from the `breads\\demos` subdirectory. These options are also useful if you want to test out code that is unreleased on PyPi but on GitHub. \r\n",
    "\r\n",
    "The first option will affect your Python/conda environment. The second option does not, but you will have to run it every time you try to use `breads` for a demo or your own code."
   ],
   "metadata": {}
  },
  {
   "cell_type": "code",
   "execution_count": 10,
   "source": [
    "# pre release\n",
    "\n",
    "# %cd .. \n",
    "# !python setup.py build\n",
    "# !python setup.py install\n",
    "# %cd ./demos\n",
    "\n",
    "# restart your Jupyter kernel"
   ],
   "outputs": [],
   "metadata": {}
  },
  {
   "cell_type": "code",
   "execution_count": 1,
   "source": [
    "# pre release\n",
    "\n",
    "# import sys\n",
    "# sys.path.append('../')"
   ],
   "outputs": [],
   "metadata": {}
  },
  {
   "cell_type": "markdown",
   "source": [
    "Finally, we import the necessary modules from `breads`"
   ],
   "metadata": {}
  },
  {
   "cell_type": "code",
   "execution_count": 2,
   "source": [
    "import breads.calibration as cal\n",
    "import breads.instruments.OSIRIS as os\n",
    "import time\n",
    "import matplotlib.pyplot as plt\n",
    "import astropy.io.fits as pyfits"
   ],
   "outputs": [],
   "metadata": {}
  },
  {
   "cell_type": "markdown",
   "source": [
    "# Tutorial"
   ],
   "metadata": {}
  },
  {
   "cell_type": "markdown",
   "source": [
    "# OH Line Calibration or Sky Calibration"
   ],
   "metadata": {}
  },
  {
   "cell_type": "markdown",
   "source": [
    "`breads.calibration` uses an image of the sky to return corrected values of wavelengths and resolution.\r\n",
    "\r\n",
    "* To run this tutorial, you will need to download a sample sky present [here](https://drive.google.com/file/d/1yljrw1MvA7as2BZG86pQslYp_GUTw3Xt/view?usp=sharing). Additional sample skies are present as `.fits` files in `public_osiris_data/kap_And/20161106/skies` available [here](https://drive.google.com/drive/folders/1zM8pfqMRQQovq-2wFC6yIguhNWZiP9Nd?usp=sharing). You can also use your own sky images obtained using Keck/OSIRIS.\r\n",
    "\r\n",
    "* Place this file in the same directory (`demos`) as this iPython notebook. Update the filename with path below."
   ],
   "metadata": {}
  },
  {
   "cell_type": "code",
   "execution_count": 3,
   "source": [
    "filename = './s161106_a024002_Kbb_020.fits'\n",
    "obj = os.OSIRIS(filename)"
   ],
   "outputs": [],
   "metadata": {}
  },
  {
   "cell_type": "markdown",
   "source": [
    "We select a smaller 4 x 5 spatial region of the full 64 X 19 data, as running the calibration on full file takes significant time."
   ],
   "metadata": {}
  },
  {
   "cell_type": "code",
   "execution_count": 4,
   "source": [
    "obj.data = obj.data[:, 20:24, 5:10]"
   ],
   "outputs": [],
   "metadata": {}
  },
  {
   "cell_type": "code",
   "execution_count": 5,
   "source": [
    "start = time.time()\n",
    "SkyCalibrationObj = cal.sky_calibration(obj, R=None)\n",
    "print(\"time taken (s):\", time.time() - start)"
   ],
   "outputs": [
    {
     "output_type": "stream",
     "name": "stdout",
     "text": [
      "row: 0, col: 0row: 0, col: 2\n",
      "\n",
      "row: 1, col: 1row: 1, col: 0\n",
      "row: 1, col: 2row: 0, col: 1row: 2, col: 0row: 0, col: 4\n",
      "\n",
      "\n",
      "\n",
      "row: 0, col: 3\n",
      "row: 2, col: 2row: 2, col: 1row: 1, col: 4row: 1, col: 3row: 2, col: 3row: 3, col: 0\n",
      "\n",
      "row: 2, col: 4\n",
      "\n",
      "\n",
      "\n",
      "\n",
      "\n",
      "row: 3, col: 1\n",
      "row: 3, col: 2\n",
      "row: 3, col: 3\n",
      "row: 3, col: 4\n",
      "time taken (s): 92.72678995132446\n"
     ]
    }
   ],
   "metadata": {}
  },
  {
   "cell_type": "markdown",
   "source": [
    "When running through command line, `breads.calibration` will give you updates on progress in the form `row: {row}, col: {col}`, but the combination of multiprocessing and iPython are supressing that output for specifically this notebook. If you are using Jupyter, you will see this output on the terminal where you ran `jupyter notebook` instead."
   ],
   "metadata": {}
  },
  {
   "cell_type": "markdown",
   "source": [
    "`fit_values` are such that $\\lambda_{new} = \\lambda_{old} (1+a_1) + a_0$ (by default). There is an option to center data (`center_data` optional argument), in which case, $\\lambda_{new} = (\\lambda_{old} - \\bar{\\lambda}_{old}) a_1 + a_0$."
   ],
   "metadata": {}
  },
  {
   "cell_type": "markdown",
   "source": [
    "Return value is a `SkyCalibration` object that contains the needed information."
   ],
   "metadata": {}
  },
  {
   "cell_type": "code",
   "execution_count": 10,
   "source": [
    "print(\"shape of corrected wavelengths: \", SkyCalibrationObj.corrected_wavelengths.shape)\n",
    "print(\"new: \", SkyCalibrationObj.corrected_wavelengths[:, 0, 0])\n",
    "print(\"old: \", obj.read_wavelengths)\n",
    "print(\"filename: \", SkyCalibrationObj.calib_filename)\n",
    "print(\"unit: \", SkyCalibrationObj.unit)\n",
    "print(\"shape of all fit values (see below): \", SkyCalibrationObj.fit_values.shape)\n"
   ],
   "outputs": [
    {
     "output_type": "stream",
     "name": "stdout",
     "text": [
      "shape of corrected wavelengths:  (1665, 4, 5)\n",
      "new:  [1.9649638 1.9652138 1.9654638 ... 2.3804154 2.3806655 2.3809154]\n",
      "old:  [1.965   1.96525 1.9655  ... 2.3805  2.38075 2.381  ]\n",
      "filename:  ./sky_calib_file.fits\n",
      "unit:  (Unit(\"Angstrom\"), None, None)\n",
      "shape of all fit values (see below):  (4, 5, 3)\n"
     ]
    }
   ],
   "metadata": {}
  },
  {
   "cell_type": "code",
   "execution_count": 8,
   "source": [
    "%matplotlib widget \n",
    "fig, ax = plt.subplots()\n",
    "im = ax.imshow(SkyCalibrationObj.fit_values[:, :, 0])\n",
    "cbar = fig.colorbar(im, extend='max')\n",
    "plt.title(r\"constant offset $a_0$\")\n",
    "plt.show()"
   ],
   "outputs": [
    {
     "output_type": "display_data",
     "data": {
      "text/plain": [
       "Canvas(toolbar=Toolbar(toolitems=[('Home', 'Reset original view', 'home', 'home'), ('Back', 'Back to previous …"
      ],
      "application/vnd.jupyter.widget-view+json": {
       "model_id": "fafa5d0d84634c18b403fea89a07492f",
       "version_major": 2,
       "version_minor": 0
      }
     },
     "metadata": {}
    }
   ],
   "metadata": {}
  },
  {
   "cell_type": "code",
   "execution_count": 9,
   "source": [
    "%matplotlib widget \n",
    "fig, ax = plt.subplots()\n",
    "im = ax.imshow(SkyCalibrationObj.fit_values[:, :, 1])\n",
    "cbar = fig.colorbar(im, extend='max')\n",
    "plt.title(r\"linear offset $a_1$\")\n",
    "plt.show()"
   ],
   "outputs": [
    {
     "output_type": "display_data",
     "data": {
      "text/plain": [
       "Canvas(toolbar=Toolbar(toolitems=[('Home', 'Reset original view', 'home', 'home'), ('Back', 'Back to previous …"
      ],
      "application/vnd.jupyter.widget-view+json": {
       "model_id": "2a3f7e64162f49129c8ab3fcf8cffd2c",
       "version_major": 2,
       "version_minor": 0
      }
     },
     "metadata": {}
    }
   ],
   "metadata": {}
  },
  {
   "cell_type": "code",
   "execution_count": 10,
   "source": [
    "%matplotlib widget \n",
    "fig, ax = plt.subplots()\n",
    "im = ax.imshow(SkyCalibrationObj.fit_values[:, :, 2])\n",
    "cbar = fig.colorbar(im, extend='max')\n",
    "plt.title(r\"Resolution $R$\")\n",
    "plt.show()"
   ],
   "outputs": [
    {
     "output_type": "display_data",
     "data": {
      "text/plain": [
       "Canvas(toolbar=Toolbar(toolitems=[('Home', 'Reset original view', 'home', 'home'), ('Back', 'Back to previous …"
      ],
      "application/vnd.jupyter.widget-view+json": {
       "model_id": "361fe1ff6a6f4419a8a983e51951800e",
       "version_major": 2,
       "version_minor": 0
      }
     },
     "metadata": {}
    }
   ],
   "metadata": {}
  },
  {
   "cell_type": "code",
   "execution_count": 11,
   "source": [
    "plt.close('all')"
   ],
   "outputs": [],
   "metadata": {}
  },
  {
   "cell_type": "markdown",
   "source": [
    "This calibration data is automatically saved to a `.fits` file. The name of the file can be passed as `calib_filename` to `breads.calibration.sky_calibration`. It defaults to `./calib_file.fits`."
   ],
   "metadata": {}
  },
  {
   "cell_type": "code",
   "execution_count": 12,
   "source": [
    "with pyfits.open('./sky_calib_file.fits') as hdulist:\n",
    "    print(len(hdulist))\n",
    "    for hdu in hdulist:\n",
    "        print(hdu.header[\"TYPE\"], hdu.data.shape)"
   ],
   "outputs": [
    {
     "output_type": "stream",
     "name": "stdout",
     "text": [
      "4\n",
      "corrected_wavelengths (1665, 4, 5)\n",
      "const (4, 5)\n",
      "RV (4, 5)\n",
      "R (4, 5)\n"
     ]
    }
   ],
   "metadata": {}
  },
  {
   "cell_type": "markdown",
   "source": [
    "## Restoration\r\n",
    "If you used the first two of the three options at the start of the tutorial to install `breads` on your system and now wish to remove the install, simply run the cell below."
   ],
   "metadata": {}
  },
  {
   "cell_type": "code",
   "execution_count": null,
   "source": [
    "# !pip uninstall -y breads"
   ],
   "outputs": [],
   "metadata": {}
  }
 ],
 "metadata": {
  "interpreter": {
   "hash": "1a8a730430b262bbc896ebcc582ec757fa4bae4551182f685bc52a07955917e4"
  },
  "kernelspec": {
   "name": "python3",
   "display_name": "Python 3.8.10 64-bit ('shubh': conda)"
  },
  "language_info": {
   "codemirror_mode": {
    "name": "ipython",
    "version": 3
   },
   "file_extension": ".py",
   "mimetype": "text/x-python",
   "name": "python",
   "nbconvert_exporter": "python",
   "pygments_lexer": "ipython3",
   "version": "3.8.10"
  },
  "orig_nbformat": 4
 },
 "nbformat": 4,
 "nbformat_minor": 2
}