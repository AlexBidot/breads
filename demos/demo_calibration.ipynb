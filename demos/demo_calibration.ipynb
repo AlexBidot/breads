{
 "cells": [
  {
   "cell_type": "markdown",
   "metadata": {},
   "source": [
    "# Using `breads` for wavelength and resolution calibration"
   ]
  },
  {
   "cell_type": "markdown",
   "metadata": {},
   "source": [
    "## Installation"
   ]
  },
  {
   "cell_type": "markdown",
   "metadata": {},
   "source": [
    "First, ensure that you have a current version of `breads` on your system. The easiest way to do this after release will be:"
   ]
  },
  {
   "cell_type": "code",
   "execution_count": null,
   "metadata": {},
   "outputs": [],
   "source": [
    "# after release\r\n",
    "\r\n",
    "# !pip install breads\r\n",
    "\r\n",
    "# restart your Jupyter kernel"
   ]
  },
  {
   "cell_type": "markdown",
   "metadata": {},
   "source": [
    "We are currently in pre-release, so you can run one of the following two options. This assumes that you have cloned our [GitHub repository](https://github.com/jruffio/bread) and are running this iPython notebook from the `breads\\demos` subdirectory. These options are also useful if you want to test out code that is unreleased on PyPi but on GitHub. \r\n",
    "\r\n",
    "The first option will affect your Python/conda environment. The second option does not, but you will have to run it every time you try to use `breads` for a demo or your own code."
   ]
  },
  {
   "cell_type": "code",
   "execution_count": 10,
   "metadata": {},
   "outputs": [],
   "source": [
    "# pre release\r\n",
    "\r\n",
    "# %cd .. \r\n",
    "# !python setup.py build\r\n",
    "# !python setup.py install\r\n",
    "# %cd ./demos\r\n",
    "\r\n",
    "# restart your Jupyter kernel"
   ]
  },
  {
   "cell_type": "code",
   "execution_count": 2,
   "metadata": {},
   "outputs": [],
   "source": [
    "# pre release\r\n",
    "\r\n",
    "# import sys\r\n",
    "# sys.path.append('../')"
   ]
  },
  {
   "cell_type": "markdown",
   "metadata": {},
   "source": [
    "Finally, we import the necessary modules from `breads`"
   ]
  },
  {
   "cell_type": "code",
   "execution_count": 3,
   "metadata": {},
   "outputs": [],
   "source": [
    "import breads.calibration as cal\r\n",
    "import breads.instruments.OSIRIS as os\r\n",
    "import time\r\n",
    "import matplotlib.pyplot as plt\r\n",
    "import astropy.io.fits as pyfits"
   ]
  },
  {
   "cell_type": "markdown",
   "metadata": {},
   "source": [
    "# Tutorial"
   ]
  },
  {
   "cell_type": "markdown",
   "metadata": {},
   "source": [
    "# OH Line Calibration or Sky Calibration"
   ]
  },
  {
   "cell_type": "markdown",
   "metadata": {},
   "source": [
    "`breads.calibration` uses an image of the sky to return corrected values of wavelengths and resolution.\r\n",
    "\r\n",
    "* To run this tutorial, you will need to download a sample sky present [here](https://drive.google.com/file/d/1yljrw1MvA7as2BZG86pQslYp_GUTw3Xt/view?usp=sharing). Additional sample skies are present as `.fits` files in `public_osiris_data/kap_And/20161106/skies` available [here](https://drive.google.com/drive/folders/1zM8pfqMRQQovq-2wFC6yIguhNWZiP9Nd?usp=sharing). You can also use your own sky images obtained using Keck/OSIRIS.\r\n",
    "\r\n",
    "* Place this file in the same directory (`demos`) as this iPython notebook. Update the filename with path below."
   ]
  },
  {
   "cell_type": "code",
   "execution_count": 4,
   "metadata": {},
   "outputs": [],
   "source": [
    "filename = './s161106_a024002_Kbb_020.fits'\r\n",
    "obj = os.OSIRIS(filename)"
   ]
  },
  {
   "cell_type": "markdown",
   "metadata": {},
   "source": [
    "We select a smaller 4 x 5 spatial region of the full 64 X 19 data, as running the calibration on full file takes significant time."
   ]
  },
  {
   "cell_type": "code",
   "execution_count": 5,
   "metadata": {},
   "outputs": [],
   "source": [
    "obj.data = obj.data[:, 20:24, 5:10]"
   ]
  },
  {
   "cell_type": "code",
   "execution_count": 6,
   "metadata": {},
   "outputs": [
    {
     "name": "stdout",
     "output_type": "stream",
     "text": [
      "time taken (s): 51.75033974647522\n"
     ]
    }
   ],
   "source": [
    "start = time.time()\r\n",
    "SkyCalibrationObj = cal.sky_calibration(obj, R=None)\r\n",
    "print(\"time taken (s):\", time.time() - start)"
   ]
  },
  {
   "cell_type": "markdown",
   "metadata": {},
   "source": [
    "When running through command line, `breads.calibration` will give you updates on progress in the form `row: {row}, col: {col}`, but the combination of multiprocessing and iPython are supressing that output for specifically this notebook. If you are using Jupyter, you will see this output on the terminal where you ran `jupyter notebook` instead."
   ]
  },
  {
   "cell_type": "markdown",
   "metadata": {},
   "source": [
    "`fit_values` are such that $\\lambda_{new} = \\lambda_{old} (1+a_1) + a_0$ (by default). There is an option to center data (`center_data` optional argument), in which case, $\\lambda_{new} = (\\lambda_{old} - \\bar{\\lambda}_{old}) a_1 + a_0$."
   ]
  },
  {
   "cell_type": "markdown",
   "metadata": {},
   "source": [
    "Return value is a `SkyCalibration` object that contains the needed information."
   ]
  },
  {
   "cell_type": "code",
   "execution_count": 7,
   "metadata": {},
   "outputs": [
    {
     "name": "stdout",
     "output_type": "stream",
     "text": [
      "shape of corrected wavelengths:  (1665, 4, 5)\n",
      "new:  [1.9649637 1.9652137 1.9654636 ... 2.380416  2.3806658 2.3809159]\n",
      "old:  [1.965   1.96525 1.9655  ... 2.3805  2.38075 2.381  ]\n",
      "filename:  ./calib_file.fits\n",
      "unit:  (Unit(\"Angstrom\"), None, None)\n",
      "shape of all fit values (see below):  (4, 5, 3)\n"
     ]
    }
   ],
   "source": [
    "print(\"shape of corrected wavelengths: \", SkyCalibrationObj.corrected_wavelengths.shape)\r\n",
    "print(\"new: \", SkyCalibrationObj.corrected_wavelengths[:, 0, 0])\r\n",
    "print(\"old: \", obj.wavelengths)\r\n",
    "print(\"filename: \", SkyCalibrationObj.calib_filename)\r\n",
    "print(\"unit: \", SkyCalibrationObj.unit)\r\n",
    "print(\"shape of all fit values (see below): \", SkyCalibrationObj.fit_values.shape)\r\n"
   ]
  },
  {
   "cell_type": "code",
   "execution_count": 8,
   "metadata": {},
   "outputs": [
    {
     "data": {
      "application/vnd.jupyter.widget-view+json": {
       "model_id": "fafa5d0d84634c18b403fea89a07492f",
       "version_major": 2,
       "version_minor": 0
      },
      "text/plain": [
       "Canvas(toolbar=Toolbar(toolitems=[('Home', 'Reset original view', 'home', 'home'), ('Back', 'Back to previous …"
      ]
     },
     "metadata": {},
     "output_type": "display_data"
    }
   ],
   "source": [
    "%matplotlib widget \r\n",
    "fig, ax = plt.subplots()\r\n",
    "im = ax.imshow(SkyCalibrationObj.fit_values[:, :, 0])\r\n",
    "cbar = fig.colorbar(im, extend='max')\r\n",
    "plt.title(r\"constant offset $a_0$\")\r\n",
    "plt.show()"
   ]
  },
  {
   "cell_type": "code",
   "execution_count": 9,
   "metadata": {},
   "outputs": [
    {
     "data": {
      "application/vnd.jupyter.widget-view+json": {
       "model_id": "2a3f7e64162f49129c8ab3fcf8cffd2c",
       "version_major": 2,
       "version_minor": 0
      },
      "text/plain": [
       "Canvas(toolbar=Toolbar(toolitems=[('Home', 'Reset original view', 'home', 'home'), ('Back', 'Back to previous …"
      ]
     },
     "metadata": {},
     "output_type": "display_data"
    }
   ],
   "source": [
    "%matplotlib widget \r\n",
    "fig, ax = plt.subplots()\r\n",
    "im = ax.imshow(SkyCalibrationObj.fit_values[:, :, 1])\r\n",
    "cbar = fig.colorbar(im, extend='max')\r\n",
    "plt.title(r\"linear offset $a_1$\")\r\n",
    "plt.show()"
   ]
  },
  {
   "cell_type": "code",
   "execution_count": 10,
   "metadata": {},
   "outputs": [
    {
     "data": {
      "application/vnd.jupyter.widget-view+json": {
       "model_id": "361fe1ff6a6f4419a8a983e51951800e",
       "version_major": 2,
       "version_minor": 0
      },
      "text/plain": [
       "Canvas(toolbar=Toolbar(toolitems=[('Home', 'Reset original view', 'home', 'home'), ('Back', 'Back to previous …"
      ]
     },
     "metadata": {},
     "output_type": "display_data"
    }
   ],
   "source": [
    "%matplotlib widget \r\n",
    "fig, ax = plt.subplots()\r\n",
    "im = ax.imshow(SkyCalibrationObj.fit_values[:, :, 2])\r\n",
    "cbar = fig.colorbar(im, extend='max')\r\n",
    "plt.title(r\"Resolution $R$\")\r\n",
    "plt.show()"
   ]
  },
  {
   "cell_type": "code",
   "execution_count": 11,
   "metadata": {},
   "outputs": [],
   "source": [
    "plt.close('all')"
   ]
  },
  {
   "cell_type": "markdown",
   "metadata": {},
   "source": [
    "This calibration data is automatically saved to a `.fits` file. The name of the file can be passed as `calib_filename` to `breads.calibration.sky_calibration`. It defaults to `./calib_file.fits`."
   ]
  },
  {
   "cell_type": "code",
   "execution_count": 12,
   "metadata": {},
   "outputs": [
    {
     "name": "stdout",
     "output_type": "stream",
     "text": [
      "4\n",
      "corrected_wavelengths (1665, 4, 5)\n",
      "const (4, 5)\n",
      "RV (4, 5)\n",
      "R (4, 5)\n"
     ]
    }
   ],
   "source": [
    "with pyfits.open('./sky_calib_file.fits') as hdulist:\r\n",
    "    print(len(hdulist))\r\n",
    "    for hdu in hdulist:\r\n",
    "        print(hdu.header[\"TYPE\"], hdu.data.shape)"
   ]
  },
  {
   "cell_type": "markdown",
   "metadata": {},
   "source": [
    "## Restoration\r\n",
    "If you used the first two of the three options at the start of the tutorial to install `breads` on your system and now wish to remove the install, simply run the cell below."
   ]
  },
  {
   "cell_type": "code",
   "execution_count": null,
   "metadata": {},
   "outputs": [],
   "source": [
    "# !pip uninstall -y breads"
   ]
  }
 ],
 "metadata": {
  "interpreter": {
   "hash": "abf3e10153cc366c8e2178c697b1aeba67da57fa7298fd8cde69df5ac4cab382"
  },
  "kernelspec": {
   "display_name": "Python 3.8.10 64-bit ('exoplanets': conda)",
   "name": "python3"
  },
  "language_info": {
   "codemirror_mode": {
    "name": "ipython",
    "version": 3
   },
   "file_extension": ".py",
   "mimetype": "text/x-python",
   "name": "python",
   "nbconvert_exporter": "python",
   "pygments_lexer": "ipython3",
   "version": "3.8.10"
  },
  "orig_nbformat": 4
 },
 "nbformat": 4,
 "nbformat_minor": 2
}