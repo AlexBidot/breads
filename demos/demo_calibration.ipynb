{
 "cells": [
  {
   "cell_type": "markdown",
   "metadata": {},
   "source": [
    "# Using `breads` for wavelength and resolution calibration"
   ]
  },
  {
   "cell_type": "markdown",
   "metadata": {},
   "source": [
    "First, ensure that you have a current version of `breads` on your system. The easiest way to do this after release will be:"
   ]
  },
  {
   "cell_type": "code",
   "execution_count": 9,
   "metadata": {},
   "outputs": [],
   "source": [
    "# after release\r\n",
    "# !pip install breads"
   ]
  },
  {
   "cell_type": "markdown",
   "metadata": {},
   "source": [
    "We are currently in pre-release, so you can run one of the following two options. This assumes that you have cloned our [GitHub repository](https://github.com/jruffio/bread) and are running this iPython notebook from the `breads\\demos` subdirectory. These options are also useful if you want to test out code that is unreleased on PyPi but on GitHub. \r\n",
    "\r\n",
    "The first option will affect your Python/conda environment. The second option does not, but you will have to run it every time you try to use `breads` for a demo or your own code."
   ]
  },
  {
   "cell_type": "code",
   "execution_count": null,
   "metadata": {},
   "outputs": [],
   "source": [
    "# !cd ..; python setup.py build; python setup.py install; cd ./demos"
   ]
  },
  {
   "cell_type": "code",
   "execution_count": null,
   "metadata": {},
   "outputs": [],
   "source": [
    "# import sys\r\n",
    "# sys.path.append('/../')"
   ]
  },
  {
   "cell_type": "markdown",
   "metadata": {},
   "source": [
    "Finally, we import the necessary modules from `breads`"
   ]
  },
  {
   "cell_type": "code",
   "execution_count": null,
   "metadata": {},
   "outputs": [],
   "source": []
  },
  {
   "cell_type": "markdown",
   "metadata": {},
   "source": [
    "`breads.calibration` uses an image of the sky to return corrected values of wavelengths and resolution.\r\n",
    "\r\n",
    "* To run this tutorial, you will need to download a sample sky present [here](https://drive.google.com/file/d/1yljrw1MvA7as2BZG86pQslYp_GUTw3Xt/view?usp=sharing). Additional sample skies are present as `.fits` files in `public_osiris_data/kap_And/20161106/skies` available [here](https://drive.google.com/drive/folders/1zM8pfqMRQQovq-2wFC6yIguhNWZiP9Nd?usp=sharing). You can also use your own sky images obtained using Keck/OSIRIS.\r\n",
    "\r\n",
    "* Place this file in the same directory (`demos`) as this iPython notebook. Update the filename with path below."
   ]
  },
  {
   "cell_type": "code",
   "execution_count": null,
   "metadata": {},
   "outputs": [],
   "source": [
    "filename = './s161106_a024002_Kbb_020.fits'"
   ]
  },
  {
   "cell_type": "code",
   "execution_count": 1,
   "metadata": {},
   "outputs": [
    {
     "name": "stderr",
     "output_type": "stream",
     "text": [
      "'ls' is not recognized as an internal or external command,\n",
      "operable program or batch file.\n"
     ]
    }
   ],
   "source": [
    "!ls"
   ]
  },
  {
   "cell_type": "code",
   "execution_count": 1,
   "metadata": {},
   "outputs": [
    {
     "name": "stderr",
     "output_type": "stream",
     "text": [
      "WARNING: Skipping breads as it is not installed.\n"
     ]
    }
   ],
   "source": [
    "!pip uninstall -y breads"
   ]
  },
  {
   "cell_type": "markdown",
   "metadata": {},
   "source": [
    "If you used the first two of the three options at the start of the tutorial to install `breads` on your system and now wish to remove the install, simply run the cell below."
   ]
  }
 ],
 "metadata": {
  "interpreter": {
   "hash": "abf3e10153cc366c8e2178c697b1aeba67da57fa7298fd8cde69df5ac4cab382"
  },
  "kernelspec": {
   "display_name": "Python 3.8.10 64-bit ('exoplanets': conda)",
   "name": "python3"
  },
  "language_info": {
   "codemirror_mode": {
    "name": "ipython",
    "version": 3
   },
   "file_extension": ".py",
   "mimetype": "text/x-python",
   "name": "python",
   "nbconvert_exporter": "python",
   "pygments_lexer": "ipython3",
   "version": "3.8.10"
  },
  "orig_nbformat": 4
 },
 "nbformat": 4,
 "nbformat_minor": 2
}